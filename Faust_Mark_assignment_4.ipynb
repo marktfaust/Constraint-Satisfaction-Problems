{
 "cells": [
  {
   "cell_type": "markdown",
   "metadata": {},
   "source": [
    "# Artificial Intelligence\n",
    "# 464/664\n",
    "# Assignment #4\n",
    "\n",
    "## General Directions for this Assignment\n",
    "\n",
    "00. We're using a Jupyter Notebook environment (tutorial available here: https://jupyter-notebook-beginner-guide.readthedocs.io/en/latest/what_is_jupyter.html),\n",
    "01. Read the entire notebook before beginning your work, \n",
    "02. Output format should be exactly as requested (it is your responsibility to make sure notebook looks as expected on Gradescope),\n",
    "03. Each helper function should be preceeded by documentation (Markdown cell),\n",
    "04. No comments in the code; anything worth mentioning should be included in the documentation,\n",
    "05. Use descriptive variable names,\n",
    "06. Functions should do only one thing,\n",
    "07. Check submission deadline on Gradescope, \n",
    "08. Rename the file to Last_First_assignment_4, \n",
    "09. Submit your notebook (as .ipynb, not PDF) using Gradescope, and\n",
    "10. Do not submit any other files.\n",
    "\n",
    "## Directions _not_ applicable for this Assignment:\n",
    "* Do not use classes,\n",
    "* Keep functions to 20 lines or less (including empty lines so do not add any),\n",
    "* Each helper function should be followed by three assert-style unit tests.\n",
    "\n",
    "## Before You Submit...\n",
    "\n",
    "1. Re-read the general instructions provided above, and\n",
    "2. Hit \"Kernel\"->\"Restart & Run All\"."
   ]
  },
  {
   "cell_type": "code",
   "execution_count": 1,
   "metadata": {},
   "outputs": [],
   "source": [
    "%matplotlib inline\n",
    "\n",
    "import matplotlib.pyplot as plt\n",
    "import networkx as nx\n",
    "from copy import deepcopy"
   ]
  },
  {
   "cell_type": "markdown",
   "metadata": {},
   "source": [
    "You might need to do a install to work with networkx\n",
    "\n",
    "```\n",
    "pip install networkx\n",
    "```"
   ]
  },
  {
   "cell_type": "markdown",
   "metadata": {},
   "source": [
    "## Map Coloring\n",
    "\n",
    "It turns out that any division of a plane into contiguous regions can be colored such that no two adjacent regions are the same color by using only four colors (see [Four Color Theorem](http://en.wikipedia.org/wiki/Four_color_theorem), for more details) This **Constraint Satisfaction Problem** can be viewed as a constraint graph, where variables are nodes and no adjacent nodes can be of the same color.\n",
    "\n",
    "\n",
    "Our first constraint graph is the dictionary `connecticut_graph` with three keys: 1) \"nodes,\" which is a ordered list of strings that represent the nodes; 2) \"edges,\" which indicates with tuples which nodes are adjacent; and 3) the \"coordinates\" key helps NetworkX make cartoons."
   ]
  },
  {
   "cell_type": "code",
   "execution_count": 2,
   "metadata": {},
   "outputs": [
    {
     "name": "stdout",
     "output_type": "stream",
     "text": [
      "{'nodes': ['Fairfield', 'Litchfield', 'New Haven', 'Hartford', 'Middlesex', 'Tolland', 'New London', 'Windham'], 'edges': [(0, 1), (0, 2), (1, 2), (1, 3), (2, 3), (2, 4), (3, 4), (3, 5), (3, 6), (4, 6), (5, 6), (5, 7), (6, 7)], 'coordinates': [(46, 52), (65, 142), (104, 77), (123, 142), (147, 85), (162, 140), (197, 94), (217, 146)]}\n"
     ]
    }
   ],
   "source": [
    "connecticut_graph = { \"nodes\": [\"Fairfield\", \"Litchfield\", \"New Haven\", \"Hartford\", \"Middlesex\", \"Tolland\", \"New London\", \"Windham\"],\n",
    "                \"edges\": [(0,1), (0,2), (1,2), (1,3), (2,3), (2,4), (3,4), (3,5), (3,6), (4,6), (5,6), (5,7), (6,7)],\n",
    "                \"coordinates\": [( 46, 52), ( 65,142), (104, 77), (123,142), (147, 85), (162,140), (197, 94), (217,146)]}\n",
    "print(connecticut_graph)"
   ]
  },
  {
   "cell_type": "markdown",
   "metadata": {},
   "source": [
    "<a id=\"Node\"></a>\n",
    "# Node\n",
    "\n",
    "The `Node` class represents a single node in a graph, defined by its unique number, name, neighboring nodes, coordinates, and a set of valid colors for coloring algorithms. Each node can be connected to other nodes and has properties to track its position and other metadata.\n",
    "\n",
    "### Parameters:\n",
    "* **number** `int`: A unique identifier for the node.\n",
    "* **name** `str`: A descriptive name or label for the node.\n",
    "* **neighbors** `List[int]`: A list of node numbers that are neighbors (i.e., connected to this node).\n",
    "* **coordinates** `Tuple[int, int]`: A tuple representing the (x, y) coordinates of the node in a 2D space.\n",
    "* **valid_colors** `List[str]`: A list of valid color options that can be assigned to this node, typically used in graph coloring algorithms.\n",
    "\n",
    "### Attributes:\n",
    "* **number** `int`: The unique identifier for the node.\n",
    "* **name** `str`: The name or label for the node.\n",
    "* **neighbors** `List[int]`: A list of neighboring node numbers that are connected to this node.\n",
    "* **coordinates** `Tuple[int, int]`: The (x, y) coordinates of the node in a 2D space.\n",
    "* **valid_colors** `List[str]`: A list of valid colors that can be assigned to this node, often used in algorithms where nodes must be colored without conflicting with their neighbors.\n",
    "\n",
    "### Methods:\n",
    "\n",
    "---\n",
    "\n",
    "<a id=\"node_constructor\"></a>\n",
    "### `__init__(number, name, neighbors, coordinates, valid_colors)`\n",
    "\n",
    "Initializes the node with the specified number, name, neighbors, coordinates, and valid colors.\n",
    "\n",
    "* **number** `int`: The unique identifier for the node.\n",
    "* **name** `str`: The name or label for the node.\n",
    "* **neighbors** `List[int]`: The list of node numbers that are neighbors of this node.\n",
    "* **coordinates** `Tuple[int, int]`: The coordinates of the node in a 2D space.\n",
    "* **valid_colors** `List[str]`: A list of valid color options for this node.\n",
    "\n",
    "**returns** None.\n",
    "\n",
    "---\n",
    "\n",
    "<a id=\"node_str\"></a>\n",
    "### `__str__()`\n",
    "\n",
    "Returns a string representation of the node, displaying its number, name, neighbors, coordinates, and valid colors.\n",
    "\n",
    "**returns** `str`: A formatted string representing the node.\n",
    "\n",
    "Example output:  \n",
    "`[number, name, neighbors, coordinates, valid_colors]`\n"
   ]
  },
  {
   "cell_type": "code",
   "execution_count": 3,
   "metadata": {},
   "outputs": [],
   "source": [
    "class Node:\n",
    "    def __init__(self, number, name, neighbors, coordinates, valid_colors):\n",
    "        self.number = number\n",
    "        self.name = name\n",
    "        self.neighbors = neighbors\n",
    "        self.coordinates = coordinates\n",
    "        self.valid_colors = valid_colors\n",
    "        self.invalid_colors = []\n",
    "        self.color = None\n",
    "    \n",
    "    def invalidate_all_colors(self):\n",
    "        for valid_color in valid_colors:\n",
    "            self.invalidate_color(valid_color, self)\n",
    "        \n",
    "    def invalidate_color(self, color, invalidator):\n",
    "        if color in self.valid_colors:\n",
    "            self.valid_colors.remove(color)\n",
    "        if not color in self.invalid_colors:\n",
    "            self.invalid_colors.append((color, invalidator))\n",
    "        \n",
    "    def __str__(self):\n",
    "        return f'[{self.number}, {self.name}, {self.neighbors}, {self.coordinates}, {self.valid_colors}, {self.invalid_colors}, {self.color}]'"
   ]
  },
  {
   "cell_type": "markdown",
   "metadata": {},
   "source": [
    "<a id=\"Graph\"></a>\n",
    "# Graph\n",
    "\n",
    "The `Graph` class represents a graph structure consisting of nodes, edges, and coordinates. It is used to model a network or structure where nodes are connected by edges, and each node has specific coordinates in a space.\n",
    "\n",
    "### Parameters:\n",
    "* **nodes** `List`: A list of nodes in the graph. Each node represents an individual element in the graph.\n",
    "* **edges** `List[Tuple[int, int]]`: A list of tuples where each tuple represents an edge between two nodes. Each tuple contains two elements, corresponding to the indices of the connected nodes.\n",
    "* **coordinates** `List[Tuple[int, int]]`: A list of tuples where each tuple represents the coordinates of a node in a 2D space, with each tuple containing the x and y coordinates of the respective node.\n",
    "\n",
    "### Attributes:\n",
    "* **nodes** `List`: The list of nodes that make up the graph.\n",
    "* **edges** `List[Tuple[int, int]]`: A list of edges, where each tuple connects two nodes by their indices.\n",
    "* **coordinates** `List[Tuple[int, int]]`: A list of coordinates for each node, with each tuple representing the (x, y) position of a node in a 2D space.\n",
    "\n",
    "### Methods:\n",
    "\n",
    "This class does not have any additional public methods beyond the constructor.\n"
   ]
  },
  {
   "cell_type": "code",
   "execution_count": 4,
   "metadata": {},
   "outputs": [],
   "source": [
    "class Graph:\n",
    "    def __init__(self, graph, color_options, trace=False):\n",
    "        self.__color_options = color_options\n",
    "        self.nodes = self.__initialize_nodes(graph, trace)\n",
    "        \n",
    "    def __initialize_nodes(self, graph, trace=False):\n",
    "        nodes = []\n",
    "        if trace:\n",
    "            print(\"Initializing Graph Nodes with all specified color options\")\n",
    "        for i in range(len(graph[\"nodes\"])):\n",
    "            neighbors = []\n",
    "            for edge in graph[\"edges\"]:\n",
    "                if edge[0] == i and not edge[1] == i:\n",
    "                    neighbors.append(edge[1])\n",
    "                elif edge[1] == i and not edge[0] == i:\n",
    "                    neighbors.append(edge[0])\n",
    "            nodes.append(Node(i, graph[\"nodes\"][i], neighbors, graph[\"coordinates\"][i], deepcopy(self.__color_options)))\n",
    "        return nodes\n",
    "        \n",
    "    def get_degree(self, node_number):\n",
    "        return len(self.nodes[node_number].neighbors)\n",
    "    \n",
    "    def get_degree_heuristic_order(self, trace=False):\n",
    "        if trace:\n",
    "            print(\"Sorting nodes by decreasing order of degree\")\n",
    "        return sorted(self.nodes, key=lambda node: -len(node.neighbors))\n",
    "    \n",
    "    def get_least_constrained_values_order(self, node):\n",
    "        shared_list = {}\n",
    "        for color in node.valid_colors:\n",
    "            shared_list[color] = 0\n",
    "            for neighbor_number in node.neighbors:\n",
    "                if color in self.nodes[neighbor_number].valid_colors:\n",
    "                    shared_list[color] = shared_list[color] + 1\n",
    "        if len(shared_list) > 0:\n",
    "            return sorted(shared_list.items(), key=lambda item: item[1])  \n",
    "        return []\n",
    "    \n",
    "    def blocked_uncolored_neighbor(self, node):\n",
    "        for neighbor_number in node.neighbors:\n",
    "            neighbor = self.nodes[neighbor_number]\n",
    "            if neighbor.color == None and len(neighbor.valid_colors) == 0:\n",
    "                return True\n",
    "        return False\n",
    "    \n",
    "    def forward_checking(self, curr_node, color, trace):\n",
    "        if trace: print('Forward checking by invalidating neighbor\\'s color')\n",
    "        for neighbor_number in curr_node.neighbors:\n",
    "            if trace: print('Invalidating neighbor', neighbor_number, 'color', color)\n",
    "            neighbor = self.nodes[neighbor_number]\n",
    "            neighbor.invalidate_color(color, curr_node)\n",
    "\n",
    "    def collapsed(self):\n",
    "        return [(node.name, node.color) for node in self.nodes]\n",
    "    \n",
    "    def __str__(self):\n",
    "        string = \"Nodes:\\n\"\n",
    "        for node in self.nodes:\n",
    "            string = string + node.__str__() + '\\n'\n",
    "        return string     \n",
    "        "
   ]
  },
  {
   "cell_type": "markdown",
   "metadata": {},
   "source": [
    "# TEST SANDBOX"
   ]
  },
  {
   "cell_type": "code",
   "execution_count": 5,
   "metadata": {
    "scrolled": false
   },
   "outputs": [],
   "source": [
    "test_graph = { \"nodes\": [\"New York\", \"Arkansas\", \"Maryland\", \"Texas\"],\n",
    "                \"edges\": [(0,1), (1,3), (2,1), (2,3)],\n",
    "                \"coordinates\": [( 46, 52), ( 65,142), (104, 77), (123,142)]}\n",
    "\n",
    "test_fail_graph = { \"nodes\": [\"New York\", \"Arkansas\", \"Maryland\"],\n",
    "                \"edges\": [(0,1), (0,2), (1,2)],\n",
    "                \"coordinates\": [( 46, 52), ( 65,142), (104, 77), (123,142)]}\n",
    "\n",
    "\n",
    "# test_graph_object = Graph(test_graph, [\"red\", \"blue\", \"green\", \"yellow\"])\n",
    "# print(test_graph_object)\n",
    "\n",
    "\n",
    "# NEW_test_graph_object = deepcopy(test_graph_object)\n",
    "\n",
    "# NEW_test_graph_object.nodes[0].invalidate_color(\"red\", None)\n",
    "# NEW_test_graph_object.nodes[0].invalidate_color(\"blue\", None)\n",
    "# NEW_test_graph_object.nodes[1].invalidate_color(\"blue\", None)\n",
    "# NEW_test_graph_object.nodes[1].invalidate_color(\"yellow\", None)\n",
    "# print(NEW_test_graph_object)\n",
    "\n",
    "# # print intial graph \n",
    "# print(\"INITIAL graph object\", test_graph_object, '\\n')\n",
    "\n",
    "# # Artificially remove constraints\n",
    "# test_graph_object.nodes[0].invalidate_color(\"red\", None)\n",
    "# test_graph_object.nodes[0].invalidate_color(\"blue\", None)\n",
    "# test_graph_object.nodes[1].invalidate_color(\"blue\", None)\n",
    "# test_graph_object.nodes[1].invalidate_color(\"yellow\", None)\n",
    "# test_graph_object.nodes[2].invalidate_color(\"green\", None)\n",
    "# test_graph_object.nodes[2].invalidate_color(\"yellow\", None)\n",
    "# test_graph_object.nodes[3].invalidate_color(\"green\", None)\n",
    "# test_graph_object.nodes[3].invalidate_color(\"red\", None)\n",
    "# test_graph_object.nodes[3].invalidate_color(\"blue\", None)\n",
    "\n",
    "# # Printing new graph\n",
    "# print(\"NEW graph object\", test_graph_object, '\\n')\n",
    "\n",
    "# order = test_graph_object.get_least_constrained_values_order(1)\n",
    "# print(order)"
   ]
  },
  {
   "cell_type": "markdown",
   "metadata": {},
   "source": [
    "## backtrack\n",
    "\n",
    "The `backtrack` function implements a recursive backtracking algorithm to assign colors to nodes in a graph, such that no two adjacent nodes have the same color. It explores all possible color assignments for each node while using forward checking to prune invalid color assignments. The function proceeds depth-first through the ordered list of nodes, attempting to assign colors and backtracking if conflicts are detected.\n",
    "\n",
    "### Parameters:\n",
    "* **graph** `Graph`: The graph object containing the nodes and edges. Each node should have a list of valid colors, and the function modifies the graph by assigning colors to nodes.\n",
    "* **ordered_nodes** `List[Node]`: A list of nodes in the order they should be processed. The order is typically based on some criteria (e.g., degrees, constraints).\n",
    "* **depth** `int`: The current depth of the recursion, representing the index of the node being colored in the ordered list.\n",
    "* **total_nodes** `int`: The total number of nodes in the graph that need to be colored.\n",
    "* **trace** `bool` (optional): If `True`, prints debug information at each step of the recursion to trace the execution of the algorithm. Defaults to `False`.\n",
    "\n",
    "### Returns:\n",
    "* **Graph or None**: If a valid coloring is found, the modified `Graph` object with colored nodes is returned. If no valid coloring is possible, `None` is returned, indicating failure to color the graph under the given constraints.\n",
    "\n",
    "### How it works:\n",
    "1. **Base Case**: When the depth reaches `total_nodes`, all nodes have been successfully colored, and the graph is returned.\n",
    "2. **Deep Copying**: The function creates a deep copy of the graph to explore possible color assignments without modifying the original graph.\n",
    "3. **Get Current Node**: The current node at the given depth is retrieved from the ordered list of nodes.\n",
    "4. **Least Constrained Value**: The function retrieves a list of possible colors for the current node, ordered by how constrained the color is (using the least constrained value heuristic).\n",
    "5. **Assign Color**: For each color in the list, the function attempts to assign the color to the node.\n",
    "6. **Forward Checking**: The function invalidates the assigned color for the node's neighbors to avoid conflicts.\n",
    "7. **Recursive Call**: The function recursively calls itself to color the next node. If successful, the result is returned.\n",
    "8. **Backtracking**: If no valid coloring is found at a certain depth, the function restores the original graph and attempts a different color.\n",
    "9. **Termination**: If all possible color assignments for a node lead to conflicts, the function backtracks and returns `None`.\n",
    "\n",
    "### Example:\n",
    "\n",
    "```python\n",
    "# Assuming a graph object with nodes and an ordered list of nodes\n",
    "result = backtrack(graph, ordered_nodes, 0, total_nodes, trace=True)\n",
    "if result:\n",
    "    print(\"Graph successfully colored!\")\n",
    "else:\n",
    "    print(\"No valid coloring found.\")\n"
   ]
  },
  {
   "cell_type": "code",
   "execution_count": 6,
   "metadata": {},
   "outputs": [],
   "source": [
    "def backtrack(graph, ordered_nodes, depth, total_nodes, trace=False):\n",
    "    \n",
    "    if depth >= total_nodes:\n",
    "        if trace: print('Base case satisfied!')\n",
    "        return graph\n",
    "    \n",
    "    if trace: print('Finding color of node at graph depth', depth)\n",
    "    saved_graph = deepcopy(graph)\n",
    "    \n",
    "    \n",
    "    if trace: print('Getting node for current graph depth')\n",
    "    curr_node = saved_graph.nodes[ordered_nodes[depth].number]\n",
    "    \n",
    "    for color, num_shared in saved_graph.get_least_constrained_values_order(curr_node):\n",
    "\n",
    "        if trace: print('Checking color', color, 'for depth', depth, '(node):', curr_node)\n",
    "        curr_node.color = color\n",
    "\n",
    "        \n",
    "        saved_graph.forward_checking(curr_node, color, trace)\n",
    "        \n",
    "\n",
    "        if trace: print('Finding next result for updated graph')\n",
    "        result = backtrack(deepcopy(saved_graph), deepcopy(ordered_nodes), depth + 1, total_nodes)\n",
    "\n",
    "        if not result == None:\n",
    "            return result\n",
    "\n",
    "        if trace: print('Restoring original graph')\n",
    "        saved_graph = deepcopy(graph)\n",
    "        curr_node = saved_graph.nodes[ordered_nodes[depth].number]\n",
    "        \n",
    "    return None\n"
   ]
  },
  {
   "cell_type": "markdown",
   "metadata": {},
   "source": [
    "<a id=\"color_map\"></a>\n",
    "## color_map\n",
    "\n",
    "This function colors a map provided as a constraint graph. The inputs are the constraint graph and a list of colors. Implementation should feature: 1) Backtracking, 2) Forward Checking, 3) variables picked using the Degreee Heuristic, and 4) Values picked using the Least Constrained Values heuristic. Each feature should be its own helper function, documented and tested.  \n",
    "\n",
    "* **constraint_graph** Dict: the dictionary with keys: nodes, edges, and coordinates.\n",
    "* **color_list** List: the domain available to variables at the start of the CSP.\n",
    "* **trace** Bool: a flag that when set to True, prints out statements that show what it is currently doing (in terms of the four features)\n",
    "\n",
    "\n",
    "**returns** \n",
    "\n",
    "\n",
    "* **solution** List[Tuple[Str][Str]]: a list of (node name, assigned color) tuples, where the ordering matches the original ordering of nodes in the constraint_graph. For example, if we had `[\"A\", \"B\"]` as nodes and `[\"Yellow\", \"Green\"]` as colors, your function might return `[(\"A\", \"Yellow\"), (\"B\", \"Green\")]`If the CSP cannot find a solution, `None` is returned."
   ]
  },
  {
   "cell_type": "code",
   "execution_count": 7,
   "metadata": {},
   "outputs": [],
   "source": [
    "def color_map(constraint_graph, color_list, trace=False):\n",
    "    \n",
    "    graph_object = Graph(constraint_graph, color_list, trace)\n",
    "    \n",
    "    ordered_nodes = graph_object.get_degree_heuristic_order(trace)\n",
    "    \n",
    "    colored_graph_object = backtrack(deepcopy(graph_object), deepcopy(ordered_nodes), 0, len(graph_object.nodes), trace)\n",
    "    \n",
    "    if not colored_graph_object == None:\n",
    "        return [(node.name, node.color) for node in colored_graph_object.nodes]\n",
    "    \n",
    "    return None\n",
    "    \n",
    "    \n",
    "    # Fix. Everything is colored red right now. \n",
    "    # With your implementation, if a solution can't be found, it should return `None`.\n",
    "    # Add features: \n",
    "    # 1) Backtracking, \n",
    "    # 2) Forward Checking, \n",
    "    # 3) Variables picked using the Degreee Heuristic, and \n",
    "    # 4) Values picked using the Least Constrained Values heuristic. \n",
    "    # Features should be helper functions, documented and tested.\n",
    "    \n",
    "    \n",
    "    \n",
    "    \n",
    "#     return [(n, \"red\") for n in constraint_graph[\"nodes\"]]"
   ]
  },
  {
   "cell_type": "markdown",
   "metadata": {},
   "source": [
    "<a id=\"color_map\"></a>\n",
    "## test_coloring\n",
    "\n",
    "This function tests the solution resulting from `color_map`. Adjacent nodes in the solution cannot be of the same color.\n",
    "\n",
    "* **constraint_graph** Dict: the dictionary with keys: nodes, edges, and coordinates.\n",
    "* **solution** List[Tuple[Str][Str]]: a list of (node name, assigned color) tuples\n",
    "\n",
    "\n",
    "**returns** \n",
    "\n",
    "\n",
    "Warning statement if there's a violation."
   ]
  },
  {
   "cell_type": "code",
   "execution_count": 8,
   "metadata": {},
   "outputs": [],
   "source": [
    "def test_coloring(constraint_graph, solution):\n",
    "    nodes = constraint_graph[ \"nodes\"]\n",
    "    edges = constraint_graph[\"edges\"]\n",
    "    for start, end in edges:\n",
    "        try:\n",
    "            assert solution[start][1] != solution[end][1]\n",
    "        except AssertionError:\n",
    "            print(f\"{nodes[start]} and {nodes[end]} are adjacent but have the same color.\")"
   ]
  },
  {
   "cell_type": "markdown",
   "metadata": {},
   "source": [
    "<a id=\"draw_map\"></a>\n",
    "## draw_map\n",
    "\n",
    "This function uses Networkx to draw the `constraint_graph`. Nodes are colored using `solution`. \n",
    "\n",
    "* **title** Str: Title for the cartoon\n",
    "* **constraint_graph** Dict with three keys: 1) \"nodes,\" which is a ordered list of strings that represent the nodes; 2) \"edges,\" which indicates with tuples which nodes are adjacent; and 3) the \"coordinates\" key helps NetworkX make cartoons.\n",
    "* **size** Tuple[Int, Int]: inches wide x inches tall, so (8,10) results in 8\"x10\" rendering (depends on monitor)\n",
    "* **solution** List[Tuple[Str][Str]]]: list of color assignments. Each item in the list is a (node name, assigned color) tuple. If set to None, all nodes are colored red. \n",
    "\n",
    "\n",
    "**returns** \n",
    "\n",
    "None. Draws constraint graph with specified color assignments for nodes. "
   ]
  },
  {
   "cell_type": "code",
   "execution_count": 9,
   "metadata": {},
   "outputs": [],
   "source": [
    "def draw_map(title, constraint_graph, size, solution=None):\n",
    "    def as_dictionary(a_list):\n",
    "        dct = {}\n",
    "        for i, e in enumerate(a_list):\n",
    "            dct[i] = e\n",
    "        return dct\n",
    "    \n",
    "    G = nx.Graph()\n",
    "    \n",
    "    labels = as_dictionary(constraint_graph[\"nodes\"])\n",
    "    pos = as_dictionary(constraint_graph[\"coordinates\"])\n",
    "    \n",
    "    # create a List of Nodes as indices to match the \"edges\" entry.\n",
    "    nodes = [n for n in range(0, len(constraint_graph[\"nodes\"]))]\n",
    "\n",
    "    if solution:\n",
    "        colors = [c for n, c in solution]\n",
    "    else:\n",
    "        colors = ['red' for c in range(0,len(constraint_graph[\"nodes\"]))]\n",
    "\n",
    "    G.add_nodes_from(nodes)\n",
    "    G.add_edges_from(constraint_graph[\"edges\"])\n",
    "\n",
    "    plt.figure(figsize=size, dpi=100)\n",
    "    plt.title(title)\n",
    "    nx.draw(G, node_color = colors, with_labels = True, labels = labels, pos = pos)\n",
    "    \n",
    "#    plt.savefig(name + \".png\")"
   ]
  },
  {
   "cell_type": "markdown",
   "metadata": {},
   "source": [
    "## Problem 1. Color Connecticut with Four Colors"
   ]
  },
  {
   "cell_type": "code",
   "execution_count": 10,
   "metadata": {},
   "outputs": [
    {
     "name": "stdout",
     "output_type": "stream",
     "text": [
      "Initializing Graph Nodes with all specified color options\n",
      "Sorting nodes by decreasing order of degree\n",
      "Finding color of node at graph depth 0\n",
      "Getting node for current graph depth\n",
      "Checking color red for depth 0 (node): [3, Hartford, [1, 2, 4, 5, 6], (123, 142), ['red', 'blue', 'green', 'yellow'], [], None]\n",
      "Forward checking by invalidating neighbor's color\n",
      "Invalidating neighbor 1 color red\n",
      "Invalidating neighbor 2 color red\n",
      "Invalidating neighbor 4 color red\n",
      "Invalidating neighbor 5 color red\n",
      "Invalidating neighbor 6 color red\n",
      "Finding next result for updated graph\n"
     ]
    }
   ],
   "source": [
    "connecticut_solution = color_map(connecticut_graph, [\"red\", \"blue\", \"green\", \"yellow\"], trace=True)"
   ]
  },
  {
   "cell_type": "markdown",
   "metadata": {},
   "source": [
    "## Test Connecticut Solution"
   ]
  },
  {
   "cell_type": "code",
   "execution_count": 11,
   "metadata": {},
   "outputs": [],
   "source": [
    "if connecticut_solution:\n",
    "    test_coloring(connecticut_graph, connecticut_solution)"
   ]
  },
  {
   "cell_type": "markdown",
   "metadata": {},
   "source": [
    "## Draw Connecticut Cartoon"
   ]
  },
  {
   "cell_type": "code",
   "execution_count": 12,
   "metadata": {},
   "outputs": [
    {
     "data": {
      "image/png": "[encoded data removed]",
      "text/plain": [
       "<Figure size 500x400 with 1 Axes>"
      ]
     },
     "metadata": {},
     "output_type": "display_data"
    }
   ],
   "source": [
    "if connecticut_solution:\n",
    "    draw_map(\"Connecticut\", connecticut_graph, (5,4), connecticut_solution)"
   ]
  },
  {
   "cell_type": "markdown",
   "metadata": {},
   "source": [
    "## Problem 2. Color Connecticut with Three Colors"
   ]
  },
  {
   "cell_type": "code",
   "execution_count": 13,
   "metadata": {},
   "outputs": [
    {
     "name": "stdout",
     "output_type": "stream",
     "text": [
      "Initializing Graph Nodes with all specified color options\n",
      "Sorting nodes by decreasing order of degree\n",
      "Finding color of node at graph depth 0\n",
      "Getting node for current graph depth\n",
      "Checking color red for depth 0 (node): [3, Hartford, [1, 2, 4, 5, 6], (123, 142), ['red', 'blue', 'green'], [], None]\n",
      "Forward checking by invalidating neighbor's color\n",
      "Invalidating neighbor 1 color red\n",
      "Invalidating neighbor 2 color red\n",
      "Invalidating neighbor 4 color red\n",
      "Invalidating neighbor 5 color red\n",
      "Invalidating neighbor 6 color red\n",
      "Finding next result for updated graph\n"
     ]
    }
   ],
   "source": [
    "connecticut_solution = color_map(connecticut_graph, [\"red\", \"blue\", \"green\"], trace=True)"
   ]
  },
  {
   "cell_type": "markdown",
   "metadata": {},
   "source": [
    "## Test Connecticut Solution"
   ]
  },
  {
   "cell_type": "code",
   "execution_count": 14,
   "metadata": {},
   "outputs": [],
   "source": [
    "if connecticut_solution:\n",
    "    test_coloring(connecticut_graph, connecticut_solution)"
   ]
  },
  {
   "cell_type": "markdown",
   "metadata": {},
   "source": [
    "## Draw Connecticut Cartoon"
   ]
  },
  {
   "cell_type": "code",
   "execution_count": 15,
   "metadata": {},
   "outputs": [
    {
     "data": {
      "image/png": "[encoded data removed]",
      "text/plain": [
       "<Figure size 500x400 with 1 Axes>"
      ]
     },
     "metadata": {},
     "output_type": "display_data"
    }
   ],
   "source": [
    "if connecticut_solution:\n",
    "    draw_map(\"connecticut\", connecticut_graph, (5,4), connecticut_solution)"
   ]
  },
  {
   "cell_type": "markdown",
   "metadata": {},
   "source": [
    "## Problem 3. Color Europe with Four Colors"
   ]
  },
  {
   "cell_type": "code",
   "execution_count": 16,
   "metadata": {
    "scrolled": true
   },
   "outputs": [
    {
     "name": "stdout",
     "output_type": "stream",
     "text": [
      "{'nodes': ['Iceland', 'Ireland', 'United Kingdom', 'Portugal', 'Spain', 'France', 'Belgium', 'Netherlands', 'Luxembourg', 'Germany', 'Denmark', 'Norway', 'Sweden', 'Finland', 'Estonia', 'Latvia', 'Lithuania', 'Poland', 'Czech Republic', 'Austria', 'Liechtenstein', 'Switzerland', 'Italy', 'Malta', 'Greece', 'Albania', 'Macedonia', 'Kosovo', 'Montenegro', 'Bosnia Herzegovina', 'Serbia', 'Croatia', 'Slovenia', 'Hungary', 'Slovakia', 'Belarus', 'Ukraine', 'Moldova', 'Romania', 'Bulgaria', 'Cyprus', 'Turkey', 'Georgia', 'Armenia', 'Azerbaijan', 'Russia'], 'edges': [(0, 1), (0, 2), (1, 2), (2, 5), (2, 6), (2, 7), (2, 11), (3, 4), (4, 5), (4, 22), (5, 6), (5, 8), (5, 9), (5, 21), (5, 22), (6, 7), (6, 8), (6, 9), (7, 9), (8, 9), (9, 10), (9, 12), (9, 17), (9, 18), (9, 19), (9, 21), (10, 11), (10, 12), (10, 17), (11, 12), (11, 13), (11, 45), (12, 13), (12, 14), (12, 15), (12, 17), (13, 14), (13, 45), (14, 15), (14, 45), (15, 16), (15, 35), (15, 45), (16, 17), (16, 35), (17, 18), (17, 34), (17, 35), (17, 36), (18, 19), (18, 34), (19, 20), (19, 21), (19, 22), (19, 32), (19, 33), (19, 34), (20, 21), (21, 22), (22, 23), (22, 24), (22, 25), (22, 28), (22, 29), (22, 31), (22, 32), (24, 25), (24, 26), (24, 39), (24, 40), (24, 41), (25, 26), (25, 27), (25, 28), (26, 27), (26, 30), (26, 39), (27, 28), (27, 30), (28, 29), (28, 30), (29, 30), (29, 31), (30, 31), (30, 33), (30, 38), (30, 39), (31, 32), (31, 33), (32, 33), (33, 34), (33, 36), (33, 38), (34, 36), (35, 36), (35, 45), (36, 37), (36, 38), (36, 45), (37, 38), (38, 39), (39, 41), (40, 41), (41, 42), (41, 43), (41, 44), (42, 43), (42, 44), (42, 45), (43, 44), (44, 45)], 'coordinates': [(18, 147), (48, 83), (64, 90), (47, 28), (63, 34), (78, 55), (82, 74), (84, 80), (82, 69), (100, 78), (94, 97), (110, 162), (116, 144), (143, 149), (140, 111), (137, 102), (136, 95), (122, 78), (110, 67), (112, 60), (98, 59), (93, 55), (102, 35), (108, 14), (130, 22), (125, 32), (128, 37), (127, 40), (122, 42), (118, 47), (127, 48), (116, 53), (111, 54), (122, 57), (124, 65), (146, 87), (158, 65), (148, 57), (138, 54), (137, 41), (160, 13), (168, 29), (189, 39), (194, 32), (202, 33), (191, 118)]}\n"
     ]
    }
   ],
   "source": [
    "europe_graph = {\n",
    "    \"nodes\":  [\"Iceland\", \"Ireland\", \"United Kingdom\", \"Portugal\", \"Spain\",\n",
    "                 \"France\", \"Belgium\", \"Netherlands\", \"Luxembourg\", \"Germany\",\n",
    "                 \"Denmark\", \"Norway\", \"Sweden\", \"Finland\", \"Estonia\",\n",
    "                 \"Latvia\", \"Lithuania\", \"Poland\", \"Czech Republic\", \"Austria\",\n",
    "                 \"Liechtenstein\", \"Switzerland\", \"Italy\", \"Malta\", \"Greece\",\n",
    "                 \"Albania\", \"Macedonia\", \"Kosovo\", \"Montenegro\", \"Bosnia Herzegovina\",\n",
    "                 \"Serbia\", \"Croatia\", \"Slovenia\", \"Hungary\", \"Slovakia\",\n",
    "                 \"Belarus\", \"Ukraine\", \"Moldova\", \"Romania\", \"Bulgaria\",\n",
    "                 \"Cyprus\", \"Turkey\", \"Georgia\", \"Armenia\", \"Azerbaijan\",\n",
    "                 \"Russia\" ], \n",
    "    \"edges\": [(0,1), (0,2), (1,2), (2,5), (2,6), (2,7), (2,11), (3,4),\n",
    "                 (4,5), (4,22), (5,6), (5,8), (5,9), (5,21), (5,22),(6,7),\n",
    "                 (6,8), (6,9), (7,9), (8,9), (9,10), (9,12), (9,17), (9,18),\n",
    "                 (9,19), (9,21), (10,11), (10,12), (10,17), (11,12), (11,13), (11,45), \n",
    "                 (12,13), (12,14), (12,15), (12,17), (13,14), (13,45), (14,15),\n",
    "                 (14,45), (15,16), (15,35), (15,45), (16,17), (16,35), (17,18),\n",
    "                 (17,34), (17,35), (17,36), (18,19), (18,34), (19,20), (19,21), \n",
    "                 (19,22), (19,32), (19,33), (19,34), (20,21), (21,22), (22,23),\n",
    "                 (22,24), (22,25), (22,28), (22,29), (22,31), (22,32), (24,25),\n",
    "                 (24,26), (24,39), (24,40), (24,41), (25,26), (25,27), (25,28),\n",
    "                 (26,27), (26,30), (26,39), (27,28), (27,30), (28,29), (28,30),\n",
    "                 (29,30), (29,31), (30,31), (30,33), (30,38), (30,39), (31,32),\n",
    "                 (31,33), (32,33), (33,34), (33,36), (33,38), (34,36), (35,36),\n",
    "                 (35,45), (36,37), (36,38), (36,45), (37,38), (38,39), (39,41),\n",
    "                 (40,41), (41,42), (41,43), (41,44), (42,43), (42,44), (42,45),\n",
    "                 (43,44), (44,45)],\n",
    "    \"coordinates\": [( 18,147), ( 48, 83), ( 64, 90), ( 47, 28), ( 63, 34),\n",
    "                   ( 78, 55), ( 82, 74), ( 84, 80), ( 82, 69), (100, 78),\n",
    "                   ( 94, 97), (110,162), (116,144), (143,149), (140,111),\n",
    "                   (137,102), (136, 95), (122, 78), (110, 67), (112, 60),\n",
    "                   ( 98, 59), ( 93, 55), (102, 35), (108, 14), (130, 22),\n",
    "                   (125, 32), (128, 37), (127, 40), (122, 42), (118, 47),\n",
    "                   (127, 48), (116, 53), (111, 54), (122, 57), (124, 65),\n",
    "                   (146, 87), (158, 65), (148, 57), (138, 54), (137, 41),\n",
    "                   (160, 13), (168, 29), (189, 39), (194, 32), (202, 33),\n",
    "                   (191,118)]}\n",
    "print(europe_graph)"
   ]
  },
  {
   "cell_type": "code",
   "execution_count": null,
   "metadata": {},
   "outputs": [],
   "source": [
    "europe_solution = color_map(europe_graph, [\"red\", \"blue\", \"green\", \"yellow\"], trace=False)"
   ]
  },
  {
   "cell_type": "markdown",
   "metadata": {},
   "source": [
    "## Test Europe Solution"
   ]
  },
  {
   "cell_type": "code",
   "execution_count": null,
   "metadata": {},
   "outputs": [],
   "source": [
    "if europe_solution:\n",
    "    test_coloring(europe_graph, europe_solution)"
   ]
  },
  {
   "cell_type": "markdown",
   "metadata": {},
   "source": [
    "## Draw Europe Cartoon"
   ]
  },
  {
   "cell_type": "code",
   "execution_count": null,
   "metadata": {
    "scrolled": true
   },
   "outputs": [],
   "source": [
    "if europe_solution:\n",
    "    draw_map(\"Europe\", europe_graph, (5,4), europe_solution)"
   ]
  },
  {
   "cell_type": "markdown",
   "metadata": {},
   "source": [
    "## Problem 4. Color Europe with Three Colors"
   ]
  },
  {
   "cell_type": "code",
   "execution_count": null,
   "metadata": {},
   "outputs": [],
   "source": [
    "europe_solution = color_map(europe_graph, [\"red\", \"blue\", \"green\"], trace=False)"
   ]
  },
  {
   "cell_type": "markdown",
   "metadata": {},
   "source": [
    "## Test Europe Solution"
   ]
  },
  {
   "cell_type": "code",
   "execution_count": null,
   "metadata": {},
   "outputs": [],
   "source": [
    "if europe_solution:\n",
    "    test_coloring(europe_graph, europe_solution)"
   ]
  },
  {
   "cell_type": "markdown",
   "metadata": {},
   "source": [
    "## Draw Europe Cartoon"
   ]
  },
  {
   "cell_type": "code",
   "execution_count": null,
   "metadata": {
    "scrolled": true
   },
   "outputs": [],
   "source": [
    "if europe_solution:\n",
    "    draw_map(\"Europe\", europe_graph, (5,4), europe_solution)"
   ]
  },
  {
   "cell_type": "markdown",
   "metadata": {},
   "source": [
    "## Problem 5. OPTIONAL. BONUS. Color Europe with Four Colors. \n",
    "\n",
    "Re-do Problem #3 (Color, Test, and Draw Europe with four colors) but instead of picking variables using the Degreee Heuristic, use the Minimum Remaining Values. "
   ]
  },
  {
   "cell_type": "markdown",
   "metadata": {},
   "source": [
    "## Before You Submit...\n",
    "\n",
    "1. Re-read the general instructions provided above, and\n",
    "2. Hit \"Kernel\"->\"Restart & Run All\"."
   ]
  }
 ],
 "metadata": {
  "kernelspec": {
   "display_name": "Python 3 (ipykernel)",
   "language": "python",
   "name": "python3"
  },
  "language_info": {
   "codemirror_mode": {
    "name": "ipython",
    "version": 3
   },
   "file_extension": ".py",
   "mimetype": "text/x-python",
   "name": "python",
   "nbconvert_exporter": "python",
   "pygments_lexer": "ipython3",
   "version": "3.9.13"
  },
  "toc": {
   "colors": {
    "hover_highlight": "#DAA520",
    "navigate_num": "#000000",
    "navigate_text": "#333333",
    "running_highlight": "#FF0000",
    "selected_highlight": "#FFD700",
    "sidebar_border": "#EEEEEE",
    "wrapper_background": "#FFFFFF"
   },
   "moveMenuLeft": true,
   "nav_menu": {
    "height": "135px",
    "width": "252px"
   },
   "navigate_menu": true,
   "number_sections": true,
   "sideBar": true,
   "threshold": 4,
   "toc_cell": false,
   "toc_section_display": "block",
   "toc_window_display": false,
   "widenNotebook": false
  }
 },
 "nbformat": 4,
 "nbformat_minor": 4
}
